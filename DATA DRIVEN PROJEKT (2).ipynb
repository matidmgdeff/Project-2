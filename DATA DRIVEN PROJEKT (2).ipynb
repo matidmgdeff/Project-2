{
 "cells": [
  {
   "cell_type": "code",
   "execution_count": 137,
   "metadata": {
    "scrolled": true
   },
   "outputs": [],
   "source": [
    "#Projekt skupia się na analizie pasków informacyjnych z największych portali informacyjnych w Polsce. Przeprowadzimy analizę\n",
    "#sentymentów, by sprawdzic który z dzienników wykorzystuje w największym stopniu manipulację, ze względu na obecność słów\n",
    "#o nacechowaniu emocjonalnym. W pracy będzie pomocna"
   ]
  },
  {
   "cell_type": "code",
   "execution_count": null,
   "metadata": {},
   "outputs": [],
   "source": [
    "#Pytanie badawcze1: Czy w nagłówkach telewizji państwowej występuje więcej słów o charakterze emocjonalnym, \n",
    "#niż w nagłówkach dzienników prywatnych?"
   ]
  },
  {
   "cell_type": "code",
   "execution_count": null,
   "metadata": {},
   "outputs": [],
   "source": [
    "#Pytanie badawcze2: Jakie słowa są najczęściej wykorzystywane do zabarwienia emocjonalnego pasków informacyjnych?"
   ]
  },
  {
   "cell_type": "code",
   "execution_count": null,
   "metadata": {},
   "outputs": [],
   "source": [
    "#Pytanie badawcze3: Jaki procent nagłówków dla danej telewizji był nacechowany emocjonalnie?"
   ]
  },
  {
   "cell_type": "code",
   "execution_count": null,
   "metadata": {},
   "outputs": [],
   "source": [
    "#Hipoteza: Telewizja publiczna dokonuje częstszego wykorzystywania słów nacechowanych emocjonalnie do\n",
    "#tworzenia swoich pasków informacyjnych"
   ]
  },
  {
   "cell_type": "code",
   "execution_count": 5,
   "metadata": {
    "scrolled": true
   },
   "outputs": [],
   "source": [
    "#Najpierw wybieramy sobie bazę danych którą chcemy scrappować. Po zebraniu danych przechodzimy do poniższej części"
   ]
  },
  {
   "cell_type": "code",
   "execution_count": 1,
   "metadata": {},
   "outputs": [
    {
     "name": "stdout",
     "output_type": "stream",
     "text": [
      "['Tragedia w Jastarni. Kierowca nie zauważył dziecka', 'Koncert ku pamięci Krzysztofa Krawczyka. Dziś powtórka w TVP2', 'Jana Shostak: Dlaczego Robert Lewandowski nie musi nosić stanika, a ja muszę?', 'Makabryczny wypadek w Wielkopolsce. Samochód wbił się w płot', 'Białowieski Park Narodowy wydzierżawił ponad 100 hektarów łąk dla żubrów', 'Debata kandydatów na prezydenta Rzeszowa. Braun wykluczony', 'Politycy o powrocie Tuska. „Będzie trollem”, „białego konia podstawiło mu PiS”', 'Premier Morawiecki wyjechał w Bieszczady. Pisze o piosence, którą znają wszyscy', 'Nowy sondaż. Zaskakujące wyniki Platformy Obywatelskiej', 'Hołownia zupełnie zmienia zdanie ws. kopalni Turów', 'Koronawirus w Polsce. Są nowe dane o zakażeniach i zgonach', 'Kolekcja płyt Polskiego Radia z września 1939 roku na Liście Krajowej UNESCO', 'Śmiertelny wypadek w Kampinoskim Parku Narodowym. Rowerzysta uderzył w drzewo', 'Znikają kolejne obostrzenia. Więcej osób na weselach, powracają targi i konferencje', 'Pożar opuszczonego domu. W pogorzelisku znaleziono ciało', 'Niedziela pogodna. Możliwe przelotne burze', 'Litwa, Niemcy i Włochy. Firmy z tych krajów nie płacą polskim przedsiębiorcom', 'Okradziono 92-letniego powstańca warszawskiego. Pomogli mu internauci', 'Franciszek pozdrowił uczestników Lednicy 2000', 'Zagrożenie pożarowe w całej Polsce. Największe w kilku województwach [MAPA]', 'Kiedy Tusk wróci do polityki? Były polityk PO nie ma wątpliwości', 'XXV Spotkanie Młodych Lednica 2000 ponownie online. Przesłanie Papieża Franciszka [WIDEO]', 'Szef „Solidarności”: Trzaskowski odsłonił kradzione logo. Jest odpowiedź stołecznego ratusza', 'Wielkie odkrycie polskich archeologów w Afryce. Odnaleźli średniowieczny kościół', 'Nie żyje Józef Przybylski, działacz opozycji antykomunistycznej', 'Luzowanie obostrzeń od 6 czerwca. Co się zmieni? [LISTA]', 'Szczepienia przeciw COVID-19 także dla 12-latków. Rozporządzenie opublikowane', 'Rosyjska korweta na polskich wodach terytorialnych? Dowództwo Operacyjne dementuje', 'Premier zaprosił samorządowców do współpracy w ramach Polskiego Ładu', 'Roman Nehrebecki, pierwowzór postaci Lolka z przygód „Bolka i Lolka”, nie żyje', 'Raport o koronawirusie. Ministerstwo Zdrowia podaje nowe dane', 'Scenariusze powrotu Tuska. „Totalny kierunek ws. KPO. Mają mu to za złe”', 'Nowy sondaż do Sejmu. „Stałe trendy”', 'Dziwna aktywność na koncie Cichanouskiej. „Konto PO mniej promuje polityków PO, niż ona”', 'Szumowski o Cieszyńskim: Powinien mieć pomnik w każdej gminie', 'Straszne obrażenia, ciało wyrzucone w lesie. Andrzeja zabito na zlecenie?', 'Jest odpowiedź na akcję #OdeślijOldzeKsiążkę. Co stanie się z przesłanymi egzemplarzami?', 'Premier: Wypełniamy testament polityczny premiera Olszewskiego', 'Jarosław Kaczyński: Sezon na spanie się skończył', 'Policyjny pościg w Małopolsce. Zatrzymano sprawcę śmiertelnego wypadku', 'Terlecki wyjaśnia: Cichanouska razem z opozycją nieuznającą demokratycznych wyborów w Polsce', 'Liderka białoruskiej opozycji w „Campusie” Trzaskowskiego. Mocny komentarz Dworczyka', 'Ponad 20 ton odpadów. Nielegalny transport z Austrii', 'Ku czci wojsk balonowych w wojnie 1920 r. Kolorowe balony nad Warszawą', 'Trzaskowski odsłonił pomnik. Szef „Solidarności”: Kradzione logo, sprawa w prokuraturze', 'Cichanouska w „Campusie” Trzaskowskiego. Terlecki: Reklamuje opozycję w Polsce', 'Pacjent zdemolował SOR w Miechowie tak, że oddział został zamknięty', 'Oficjalny profil Polskiego Ładu: Tezy lidera PSL odbiegają od rzeczywistości', 'Lekarz chciał po raz trzeci zaszczepić się na COVID-19. Podał nie swoje dane', 'Pierwsze takie wybory po wojnie. Mijają 32 lata od wyborów czerwcowych', 'Dyskryminacja, której nie było. Atak GW i TOK FM na szkołę w Łukowie', 'Przez rok nękał byłą partnerkę SMS-ami i telefonami. Ubliżał jej i groził', 'Lech Wałęsa na liście współpracowników SB. 29 lat od „nocnej zmiany” [WIDEO]', 'Wędkarz zauważył zwłoki w trzcinie. To dzisiaj już trzecia tragedia w tym regionie', '„Jest szansą dla tego miasta”. Kaczyński w Rzeszowie wsparł Ewę Leniart [WIDEO]', 'Krwawy mord w Żyrardowie to prawdopodobnie porachunki na tle narkotykowym', 'Tunel w Świnoujściu. Wyspiarka zejdzie 37,5 metra pod poziom morza', 'W Lublinie powstaną pierwsze ogrody deszczowe', 'W wieżowcu zerwała się winda. Makabryczny wypadek w Łodzi', 'Spotkanie prezydenta z Cichanouską i Polkami z Białorusi', 'Budka: Donald Tusk odegra ogromną rolę w budowaniu silnej i zwycięskiej PO', 'Prezes TVP wspomina Jana Olszewskiego. „Miał to, co znamionuje mężów stanu”', 'Odsłonięto pomnik Jana Olszewskiego. Prezydent: Wspaniała postać polskiej historii', 'Szokujące słowa Tokarczuk. Posłanka zachwala jej „trzeci zmysł”', '„Tak wraca, że wrócić nie może”. Joachim Brudziński o Donaldzie Tusku', 'Poznań. Wiadomo, kim jest mężczyzna postrzelony przez policjantów', 'Premier Morawiecki: Nie mam żadnych kont za granicą', 'Schetyna o Tusku: Zawsze tak przekazywano pałeczkę', 'Prace przy Baltic Pipe, za które odpowiada Gaz–System, przebiegają bez zakłóceń', 'Koronawirus w Polsce. Nowe dane o zakażeniach i zgonach', 'Sytuacja na Białorusi. MSZ: Nie zostawimy Polaków', 'Myszy i nietoperze blokują Baltic Pipe. Dworczyk: Trzeba patrzeć na interesy geopolityczne', 'ZUS: rośnie zainteresowanie bonem turystycznym', '29 lat temu odwołano rząd Jana Olszewskiego', 'Biedroń likwiduje swoją partię', 'Tusk przejmie władzę w PO? „Jestem gotów zrobić wszystko”', 'Premier: Polskę stać na odbudowę pamiątek', 'Baltic Pipe i Nord Stream 2. „Jeśli Niemcy tego nie chcą, to zrobi to Polska”', 'KAS i CBŚP przejęły 20 mln nielegalnych papierosów', 'Rusza projekt #Beatyfikacja. 100 dni przed beatyfikacją kard. Wyszyńskiego', 'Pogoda na piątek. Słonecznie, ale burzowo', 'Jarosław Kaczyński wesprze Ewę Leniart w ostatnich dniach kampanii wyborczej', 'Będzie pierwszy związek zawodowy w TVN? „Pracownicy boją się je zakładać”', 'Swiatłana Cichanouska rozpoczyna wizytę w Polsce. W planie m.in. spotkanie z prezydentem', \"Rzeczniczka PiS o nowej ustawie: Wraz z Kukiz '15 chcemy wyeliminować korupcję\", 'Internet zalały zdjęcia z procesji. Politycy pokazali, jak świętują', 'Marszałek Witek: Trójmorze jednym z najambitniejszych projektów naszych czasów', 'Boże Ciało. Biskupi: Chrześcijaństwo elementem zespalającym nasze dzieje', 'Kłopoty Lecha Wałęsy. Były prezydent: To sprawa państwa polskiego', 'Gowin dołączy do Hołowni? „Musi zobaczyć, na ile został wykrwawiony”', 'Olga Tokarczuk o Polsce i Białorusi. Odsyłają jej książki', 'Wirusolog: dawno nie mieliśmy tak niskich wskaźników zakażeń, więc można luzować obostrzenia', 'Prognoza pogody na długi weekend. Co przewidują synoptycy?', 'Rekordowa liczba dobowych szczepień. W czerwcu kolejne dostawy szczepionek', 'Tragiczny pożar w Pruszkowie. Nie żyje nastolatek', '„Przyzwolenie na rasizm”. Poseł Lewicy chce usunąć „Murzynka Bambo” z kanonu', 'Lista obostrzeń w czerwcu. Jest nowe rozporządzenie', 'Raport o koronawirusie. Ministerstwo Zdrowia podaje nowe dane', 'Zabójstwo Krzysztofa Olewnika. Okoliczności porwania i tożsamość zleceniodawców', 'Strzelanina w Żyrardowie. Zabity mężczyzna']\n",
      "1000\n"
     ]
    }
   ],
   "source": [
    "#Baza dlanych dla TVP\n",
    "from selenium import webdriver\n",
    "from time import sleep\n",
    "\n",
    "DRIVER_PATH = 'chromedriver.exe'\n",
    "d = webdriver.Chrome(executable_path=DRIVER_PATH)\n",
    "titles=[]\n",
    "site='https://www.tvp.info/191866/polska?page='\n",
    "for i in range (50):\n",
    "    \n",
    "    sites=site+str(i+1)\n",
    "    d.get(sites)\n",
    "    ts=d.find_elements_by_tag_name('h3')\n",
    "    for t in ts:\n",
    "        titles.append(t.text)\n",
    "    ts=None\n",
    "\n",
    "d.close()\n",
    "sleep(5)\n",
    "\n",
    "print(titles[:100])\n",
    "print(len(titles))\n",
    "\n"
   ]
  },
  {
   "cell_type": "code",
   "execution_count": 126,
   "metadata": {},
   "outputs": [
    {
     "name": "stdout",
     "output_type": "stream",
     "text": [
      "980\n"
     ]
    }
   ],
   "source": [
    "#Baza danych dla TVN\n",
    "from selenium import webdriver\n",
    "DRIVER_PATH = './chromedriver'\n",
    "d = webdriver.Chrome()\n",
    "\n",
    "\n",
    "\n",
    "site='https://tvn24.pl/polska/'\n",
    "titles=[]\n",
    "for i in range (50):\n",
    "    \n",
    "    sites=site+str(i+1)\n",
    "    d.get(sites)\n",
    "    ts=d.find_elements_by_tag_name('h2')\n",
    "    for t in ts:\n",
    "        titles.append(t.text)\n",
    "    ts=None\n",
    "print(len(titles))\n",
    "d.close()\n"
   ]
  },
  {
   "cell_type": "code",
   "execution_count": 33,
   "metadata": {},
   "outputs": [
    {
     "name": "stdout",
     "output_type": "stream",
     "text": [
      "960\n"
     ]
    }
   ],
   "source": [
    "#dane dla Niezaleznej\n",
    "from selenium import webdriver\n",
    "from time import sleep\n",
    "DRIVER_PATH = './chromedriver'\n",
    "d = webdriver.Chrome()\n",
    "\n",
    "\n",
    "\n",
    "site='https://niezalezna.pl/dzial/polska/'\n",
    "titles=[]\n",
    "for i in range (60):\n",
    "    \n",
    "    sites=site+str(i+1)\n",
    "    d.get(sites)\n",
    "    ts=d.find_elements_by_class_name('uitemTitle')\n",
    "    for t in ts:\n",
    "        titles.append(t.text)\n",
    "    ts=None\n",
    "print(len(titles))\n",
    "sleep(5)\n",
    "d.close()"
   ]
  },
  {
   "cell_type": "code",
   "execution_count": 109,
   "metadata": {},
   "outputs": [
    {
     "name": "stdout",
     "output_type": "stream",
     "text": [
      "900\n",
      "900\n",
      "['Gdańsk: policja rozbiła szajkę. 19 osób zatrzymanych za czerpanie korzyści z nierządu', 'Nord Stream 2 bez sankcji USA. Kreml: przyjmujemy to z zadowoleniem', 'Burze z gradem. Ostrzeżenie dla czterech województw', 'Uratował dziewczynce życie. \"Gdyby spóźnił się sekundę, wpadłaby pod ciężarówkę\"', '\"Bił przy każdej okazji. Przykładał brudne buty do twarzy\". Historie ofiar przemocy domowej', '28-letnia matka pogryzła córkę. Trafiła do aresztu', 'Dzień dziecka. Premier odpowiadał na pytania uczniów', 'Poznań. Zarzuty za oszustwa \"na ambasadora\"', 'Przekazał mu oszczędności życia w reklamówce. Policja poszukuje oszusta', 'Warmińsko-mazurskie. W Małdytach wykryto przypadek wścieklizny u nietoperza', 'Nowa umowa jak oszustwo. Rachunki za gaz wzrosły dwukrotnie', 'Kierował hulajnogą pod wpływem alkoholu - został ukarany mandatem 500 zł', 'Prezydent podpisał ustawę ws. młodzieżowych rad gmin, powiatu i młodzieżowego sejmiku województwa', 'Śmierć 18-letniej Magdy. Społeczność szkoły pożegnała zamordowaną licealistkę', 'Kierowca taksówki postrzelony w Warszawie. Policja szuka sprawcy', 'UE nie rezygnuje z cenzury roślinnych zamienników nabiału', 'Swiatłana Cichanouska pod koniec tygodnia w Polsce - odsłoni pomnik Solidarności w Warszawie', 'Koronawirus - Raport Dnia. Wtorek, 1 czerwca', '10 czerwca komisja sprawiedliwości ma zaopiniować wnioski ws. powołania RPO', 'RPO interweniuje w sprawie decyzji AGH związanych z praktykami tylko dla zaszczepionych', 'Małopolskie. Fałszywa pracownica ZUS i lekarka wyłudziły 28 tys. zł', 'Rosja zatrzymała polski samolot. Arłukowicz: prowokacja, napinana jest struna', 'Lewica chce dodatkowych lekcji wf-u w zamian za lekcje religii i odciążenia programu w szkołach', 'Dzień Dziecka. Antyterroryści zatańczyli do piosenki Majki Jeżowskiej', 'Bocianica z Józefiny zginęła pod kołami samochodu', 'Gowin: Porozumienie poprze kluczowe projekty Kukiza. Mamy nadzieję, że on poprze nasze pomysły', 'Czarnek: w czerwcu akcja informacyjna w szkołach nt. szczepień. We wrześniu akcja szczepień', 'W środę nowe decyzje o luzowaniu obostrzeń. Minister Adam Niedzielski zapowiada', 'Kosowo. Polscy policjanci uratowali zaginionego motocyklistę. Sparaliżowany leżał w wąwozie', 'Od wtorku ruszają Unijne Certyfikaty COVID', 'Prezydent Andrzej Duda podpisał nowelizację wprowadzającą do dowodów osobistych odciski palców', 'Podlaskie. 31 tys. zł strat w oszustwie \"na zdalny pulpit\" - zadzwonił rzekomy konsultant banku', 'Okradł 90-letniego powstańca. Policja publikuje wizerunek', 'Prezes NIK zawiadamia prokuraturę o popełnieniu przestępstwa przez Jarosława Kaczyńskiego', 'Jak politycy reagują na powrót Janusza Cieszyńskiego do rządu? Nowa rola byłego wiceministra zdrowia', 'Gryfice. Pochód licealistów. Uczniowie oddają cześć zamordowanej Magdzie', 'Otwock. Matka znęcała się nad dzieckiem. Interweniowała dyrekcja przedszkola', 'Jan Śpiewak przegrał proces. Naruszył dobre imię byłego wiceprezydenta Warszawy', 'Uwaga na magnetyczne kulki. Lekarze alarmują o niebezpieczeństwie', 'Polska - Rosja. Towarzyski mecz we Wrocławiu bez Milika i Lewandowskiego', 'Superbohaterowie dla dzieci. Inicjatywa pracowników Polsatu', 'Nowe przypadki koronawirusa w Polsce. Dane ministerstwa, 1 czerwca', 'Odbudowa Pałacu Saskiego. \"Projekt ustawy powinien powstać do końca czerwca\"', '\"Kiedyś świat znajdzie się w Waszych rękach\". Życzenia pary prezydenckiej z okazji Dnia Dziecka', 'Dawid J., który zabił 18-letnią Magdę ze Świńca został aresztowany na 3 miesiące', 'Szczątki 12-latki w jaskini. Po kilku latach naukowcy ustalili kim była', 'Nowy minister cyfryzacji. Będzie nim Janusz Cieszyński', 'Rzecznik rządu o luzowaniu obostrzeń: szczegółowe informacje w ciągu najbliższych dni', 'Znalazł śmieci na swoim polu i \"oddał\" je właścicielowi. \"Karma wraca\"', 'Policjant na rowerze dogonił uciekającego motocyklistę', 'Szczepienie dzieci w wieku 12-15 lat. Poznaliśmy szczegóły', '\"Trzeba pokazać tym, którzy podnoszą rękę na dzieci, że ta im uschnie\". Mikołaj Pawlak w \"Graffiti\"', 'Zabrze. Udany przeszczep płuc u kobiety, która w ciąży zachorowała na COVID-19', 'Zmiany w przepisach ruchu drogowego. Zakaz jazdy \"na zderzaku\" i nowe zasady dot. pieszych', 'Przelotne deszcze i chłodno. Pogoda na wtorek', 'Piekarska o Kukizie: kto PiS-u dotyka, ten z polityki szybko znika', 'Sondaż dla Interii: PiS na czele. Druga PL2050 Szymona Hołowni z dużą przewagą nad KO', 'Prokurator, który oskarżał Tomasza Komendę, usunięty z zawodu', '\"Raport\": onkologia pracowała na granicy wydolności. Po pandemii granica może zostać przekroczona', '\"Po wystąpieniu z PiS wróciłem do wolności. Boks mnie zafascynował\". Marcinkiewicz przed walką', 'Polski dziennikarz składał kwiaty na grobie, podszedł do niego Joe Biden z żoną', 'Sąd w Amsterdamie wydaje Polsce Izraelczyka poszukiwanego listem gończym', 'Koronawirus - Raport Dnia. Poniedziałek, 31 maja', 'Gliński: powołaliśmy nową instytucję kultury Muzeum Dzieci Polskich - ofiar totalitaryzmu', 'Litwa. Doradcy prezydentów Polski i państw bałtyckich o bezpieczeństwie i agresywnej polityce Rosji', 'NATO ogranicza dyplomatom z Białorusi dostęp do kwatery głównej Sojuszu', 'AstraZeneca otwiera biuro w Krakowie', 'Ciężko chorzy pacjenci bez opieki? Mocne oskarżenia', 'Rejs mentoringowy dla młodzieży po Mazurach. To niezwykła szansa dla młodych ludzi', '„Ninja Warrior Polska”: Dlaczego warto zgłosić się na casting?', 'Lubelskie. Awantura i bójka przed pierwszą komunią św.', 'Kidawa-Błońska zwolniła asystenta. Miał udawać ciężką chorobę i wyłudzać pieniądze na leczenie', 'Polska i Hiszpania podpisały porozumienie o współpracy przy CPK', 'Szczepienia dzieci. Czarnek zapowiedział, że nie będą obowiązkowe', 'Wybory kopertowe. Eksperci o wniosku z kontroli NIK. \"Całkowicie nieuzasadniony\"', 'Libiąż: 65-latek zatrzymany za próbę uprowadzenia siedmiolatka', 'Brutalne pobicie 3-latki w Toruniu. Rodzice z zarzutem usiłowania zabójstwa', 'Niedzielski: w wakacje będzie projekt ustawy o reformie szpitalnictwa', 'Niepokojący eksperyment. Dzieci zaufały \"porywaczce\", chociaż miały nie rozmawiać z obcymi', \"PiS podpisało umowę programową z Kukiz'15\", 'Australia. Linie lotnicze nagrodzą zaszczepionych. Nielimitowane, bezpłatne loty', 'Gdańsk. Dwa dożywocia za zabicie biznesmena z Pomorza', 'Izba Dyscyplinarna nie uchyliła immunitetu sędziemu SN W. Wróblowi', 'Morderstwo 18-letniej Magdy ze Świńca. Ziobro komentuje', 'Członkowie Rady Medycznej jednoznacznie za szczepieniami dzieci', 'Cichanouska: Pratasiewicz był bity i torturowany w areszcie', 'Skradzione tablice, brak dokumentów. Odzyskany kamper za 300 tys. zł', 'Premier Morawiecki: warunki dla prowadzenia biznesu w Polsce są bardzo dobre', 'Łódź. Woli kraść niż pracować. Policja zatrzymała recydywistę', 'Bartoszyce. Dwulatek zmarł w szpitalu. Zatrzymano rodziców', 'Łyse: Kierowca zginął w zderzeniu quada z ciężarówką. Pożar czterokołowca', 'Śrem. Znęcali się nad seniorką. Zatrzymano podejrzanych', 'Joachim Brudziński: Nie będę się tłumaczył hołocie i popaprańcom. Chodzi o projekt promu \"Batory\"', 'Nowe przypadki koronawirusa w Polsce. Dane ministerstwa, 31 maja', 'Reforma szpitalnictwa. Ministerstwo Zdrowia opublikowało raport', 'Została zgwałcona i uduszona? Tragiczny finał poszukiwań 18-latki ze Świńca', 'Szczepienia przeciw COVID-19. Powstanie mapa \"najbardziej odpornych gmin\"', 'Prezydent Andrzej Duda uroczyście ratyfikował decyzję ws. Funduszu Odbudowy', '\"Kopalnia Turów będzie pracować do 2044 roku. Polska musi mieć czas\" Artur Soboń w \"Graffiti\"', 'Niedzielski: będę rekomendował, aby maseczki nosić wewnątrz jeszcze w wakacje']\n"
     ]
    },
    {
     "ename": "InvalidSessionIdException",
     "evalue": "Message: invalid session id\n",
     "output_type": "error",
     "traceback": [
      "\u001b[1;31m---------------------------------------------------------------------------\u001b[0m",
      "\u001b[1;31mInvalidSessionIdException\u001b[0m                 Traceback (most recent call last)",
      "\u001b[1;32m<ipython-input-109-b3f20af59a5b>\u001b[0m in \u001b[0;36m<module>\u001b[1;34m\u001b[0m\n\u001b[0;32m     25\u001b[0m \u001b[0mprint\u001b[0m\u001b[1;33m(\u001b[0m\u001b[0mtitles\u001b[0m\u001b[1;33m[\u001b[0m\u001b[1;33m:\u001b[0m\u001b[1;36m100\u001b[0m\u001b[1;33m]\u001b[0m\u001b[1;33m)\u001b[0m\u001b[1;33m\u001b[0m\u001b[1;33m\u001b[0m\u001b[0m\n\u001b[0;32m     26\u001b[0m \u001b[0msleep\u001b[0m\u001b[1;33m(\u001b[0m\u001b[1;36m5\u001b[0m\u001b[1;33m)\u001b[0m\u001b[1;33m\u001b[0m\u001b[1;33m\u001b[0m\u001b[0m\n\u001b[1;32m---> 27\u001b[1;33m \u001b[0md\u001b[0m\u001b[1;33m.\u001b[0m\u001b[0mclose\u001b[0m\u001b[1;33m(\u001b[0m\u001b[1;33m)\u001b[0m\u001b[1;33m\u001b[0m\u001b[1;33m\u001b[0m\u001b[0m\n\u001b[0m",
      "\u001b[1;32mD:\\Anaconda\\lib\\site-packages\\selenium\\webdriver\\remote\\webdriver.py\u001b[0m in \u001b[0;36mclose\u001b[1;34m(self)\u001b[0m\n\u001b[0;32m    686\u001b[0m             \u001b[0mdriver\u001b[0m\u001b[1;33m.\u001b[0m\u001b[0mclose\u001b[0m\u001b[1;33m(\u001b[0m\u001b[1;33m)\u001b[0m\u001b[1;33m\u001b[0m\u001b[1;33m\u001b[0m\u001b[0m\n\u001b[0;32m    687\u001b[0m         \"\"\"\n\u001b[1;32m--> 688\u001b[1;33m         \u001b[0mself\u001b[0m\u001b[1;33m.\u001b[0m\u001b[0mexecute\u001b[0m\u001b[1;33m(\u001b[0m\u001b[0mCommand\u001b[0m\u001b[1;33m.\u001b[0m\u001b[0mCLOSE\u001b[0m\u001b[1;33m)\u001b[0m\u001b[1;33m\u001b[0m\u001b[1;33m\u001b[0m\u001b[0m\n\u001b[0m\u001b[0;32m    689\u001b[0m \u001b[1;33m\u001b[0m\u001b[0m\n\u001b[0;32m    690\u001b[0m     \u001b[1;32mdef\u001b[0m \u001b[0mquit\u001b[0m\u001b[1;33m(\u001b[0m\u001b[0mself\u001b[0m\u001b[1;33m)\u001b[0m\u001b[1;33m:\u001b[0m\u001b[1;33m\u001b[0m\u001b[1;33m\u001b[0m\u001b[0m\n",
      "\u001b[1;32mD:\\Anaconda\\lib\\site-packages\\selenium\\webdriver\\remote\\webdriver.py\u001b[0m in \u001b[0;36mexecute\u001b[1;34m(self, driver_command, params)\u001b[0m\n\u001b[0;32m    319\u001b[0m         \u001b[0mresponse\u001b[0m \u001b[1;33m=\u001b[0m \u001b[0mself\u001b[0m\u001b[1;33m.\u001b[0m\u001b[0mcommand_executor\u001b[0m\u001b[1;33m.\u001b[0m\u001b[0mexecute\u001b[0m\u001b[1;33m(\u001b[0m\u001b[0mdriver_command\u001b[0m\u001b[1;33m,\u001b[0m \u001b[0mparams\u001b[0m\u001b[1;33m)\u001b[0m\u001b[1;33m\u001b[0m\u001b[1;33m\u001b[0m\u001b[0m\n\u001b[0;32m    320\u001b[0m         \u001b[1;32mif\u001b[0m \u001b[0mresponse\u001b[0m\u001b[1;33m:\u001b[0m\u001b[1;33m\u001b[0m\u001b[1;33m\u001b[0m\u001b[0m\n\u001b[1;32m--> 321\u001b[1;33m             \u001b[0mself\u001b[0m\u001b[1;33m.\u001b[0m\u001b[0merror_handler\u001b[0m\u001b[1;33m.\u001b[0m\u001b[0mcheck_response\u001b[0m\u001b[1;33m(\u001b[0m\u001b[0mresponse\u001b[0m\u001b[1;33m)\u001b[0m\u001b[1;33m\u001b[0m\u001b[1;33m\u001b[0m\u001b[0m\n\u001b[0m\u001b[0;32m    322\u001b[0m             response['value'] = self._unwrap_value(\n\u001b[0;32m    323\u001b[0m                 response.get('value', None))\n",
      "\u001b[1;32mD:\\Anaconda\\lib\\site-packages\\selenium\\webdriver\\remote\\errorhandler.py\u001b[0m in \u001b[0;36mcheck_response\u001b[1;34m(self, response)\u001b[0m\n\u001b[0;32m    240\u001b[0m                 \u001b[0malert_text\u001b[0m \u001b[1;33m=\u001b[0m \u001b[0mvalue\u001b[0m\u001b[1;33m[\u001b[0m\u001b[1;34m'alert'\u001b[0m\u001b[1;33m]\u001b[0m\u001b[1;33m.\u001b[0m\u001b[0mget\u001b[0m\u001b[1;33m(\u001b[0m\u001b[1;34m'text'\u001b[0m\u001b[1;33m)\u001b[0m\u001b[1;33m\u001b[0m\u001b[1;33m\u001b[0m\u001b[0m\n\u001b[0;32m    241\u001b[0m             \u001b[1;32mraise\u001b[0m \u001b[0mexception_class\u001b[0m\u001b[1;33m(\u001b[0m\u001b[0mmessage\u001b[0m\u001b[1;33m,\u001b[0m \u001b[0mscreen\u001b[0m\u001b[1;33m,\u001b[0m \u001b[0mstacktrace\u001b[0m\u001b[1;33m,\u001b[0m \u001b[0malert_text\u001b[0m\u001b[1;33m)\u001b[0m\u001b[1;33m\u001b[0m\u001b[1;33m\u001b[0m\u001b[0m\n\u001b[1;32m--> 242\u001b[1;33m         \u001b[1;32mraise\u001b[0m \u001b[0mexception_class\u001b[0m\u001b[1;33m(\u001b[0m\u001b[0mmessage\u001b[0m\u001b[1;33m,\u001b[0m \u001b[0mscreen\u001b[0m\u001b[1;33m,\u001b[0m \u001b[0mstacktrace\u001b[0m\u001b[1;33m)\u001b[0m\u001b[1;33m\u001b[0m\u001b[1;33m\u001b[0m\u001b[0m\n\u001b[0m\u001b[0;32m    243\u001b[0m \u001b[1;33m\u001b[0m\u001b[0m\n\u001b[0;32m    244\u001b[0m     \u001b[1;32mdef\u001b[0m \u001b[0m_value_or_default\u001b[0m\u001b[1;33m(\u001b[0m\u001b[0mself\u001b[0m\u001b[1;33m,\u001b[0m \u001b[0mobj\u001b[0m\u001b[1;33m,\u001b[0m \u001b[0mkey\u001b[0m\u001b[1;33m,\u001b[0m \u001b[0mdefault\u001b[0m\u001b[1;33m)\u001b[0m\u001b[1;33m:\u001b[0m\u001b[1;33m\u001b[0m\u001b[1;33m\u001b[0m\u001b[0m\n",
      "\u001b[1;31mInvalidSessionIdException\u001b[0m: Message: invalid session id\n"
     ]
    }
   ],
   "source": [
    "#Baza danych dla Polsatu\n",
    "from selenium import webdriver\n",
    "DRIVER_PATH = './chromedriver'\n",
    "d = webdriver.Chrome()\n",
    "\n",
    "\n",
    "\n",
    "site='https://www.polsatnews.pl/wyszukiwarka/?text=Polska&type=event&page=1'\n",
    "titles=[]\n",
    "for i in range (50):\n",
    "    \n",
    "    sites=site+str(i+1)\n",
    "    d.get(sites)\n",
    "    ts=d.find_elements_by_tag_name('h2')\n",
    "    for t in ts:\n",
    "        titles.append(t.text)\n",
    "    ts=None\n",
    "print(len(titles))\n",
    "d.close()\n",
    "\n",
    "\n",
    "\n",
    "\n",
    "print(len(titles))\n",
    "print(titles[:100])\n",
    "sleep(5)\n",
    "d.close()"
   ]
  },
  {
   "cell_type": "code",
   "execution_count": 96,
   "metadata": {},
   "outputs": [
    {
     "name": "stdout",
     "output_type": "stream",
     "text": [
      "580\n"
     ]
    }
   ],
   "source": [
    "#Wyborcza\n",
    "from selenium import webdriver\n",
    "DRIVER_PATH = './chromedriver'\n",
    "d = webdriver.Chrome()\n",
    "\n",
    "\n",
    "\n",
    "site='https://wyborcza.pl/0,75398.html?str='\n",
    "titles=[]\n",
    "for i in range (20):\n",
    "    \n",
    "    sites=site+str(i+1)+\"_20588249\"\n",
    "    d.get(sites)\n",
    "    ts=d.find_elements_by_tag_name('h2')\n",
    "    for t in ts:\n",
    "        titles.append(t.text)\n",
    "    ts=None\n",
    "print(len(titles))\n",
    "d.close()"
   ]
  },
  {
   "cell_type": "code",
   "execution_count": null,
   "metadata": {},
   "outputs": [],
   "source": [
    "#Niezależna\n",
    "from selenium import webdriver\n",
    "DRIVER_PATH = './chromedriver'\n",
    "d = webdriver.Chrome()\n",
    "\n",
    "\n",
    "\n",
    "site='https://niezalezna.pl/dzial/polska/'\n",
    "titles=[]\n",
    "for i in range (20):\n",
    "    \n",
    "    sites=site+str(i+1)\n",
    "    d.get(sites)\n",
    "    ts=d.find_elements_by_class_name('uitemTitle')\n",
    "    for t in ts:\n",
    "        titles.append(t.text)\n",
    "    ts=None\n",
    "print(len(titles))\n",
    "d.close()"
   ]
  },
  {
   "cell_type": "code",
   "execution_count": null,
   "metadata": {},
   "outputs": [],
   "source": [
    "#Do tej części przechodzimy tylko gdy mamy zescprapowaną bazę danych"
   ]
  },
  {
   "cell_type": "code",
   "execution_count": null,
   "metadata": {},
   "outputs": [],
   "source": [
    "#ANALIZA SENTYMENTU"
   ]
  },
  {
   "cell_type": "code",
   "execution_count": null,
   "metadata": {},
   "outputs": [],
   "source": [
    "#Ale najpierw trzeba przetłumaczyć wszystkie tytuły "
   ]
  },
  {
   "cell_type": "code",
   "execution_count": 127,
   "metadata": {},
   "outputs": [
    {
     "data": {
      "text/html": [
       "<div>\n",
       "<style scoped>\n",
       "    .dataframe tbody tr th:only-of-type {\n",
       "        vertical-align: middle;\n",
       "    }\n",
       "\n",
       "    .dataframe tbody tr th {\n",
       "        vertical-align: top;\n",
       "    }\n",
       "\n",
       "    .dataframe thead th {\n",
       "        text-align: right;\n",
       "    }\n",
       "</style>\n",
       "<table border=\"1\" class=\"dataframe\">\n",
       "  <thead>\n",
       "    <tr style=\"text-align: right;\">\n",
       "      <th></th>\n",
       "      <th>Tytuły</th>\n",
       "    </tr>\n",
       "  </thead>\n",
       "  <tbody>\n",
       "    <tr>\n",
       "      <th>count</th>\n",
       "      <td>980</td>\n",
       "    </tr>\n",
       "    <tr>\n",
       "      <th>unique</th>\n",
       "      <td>956</td>\n",
       "    </tr>\n",
       "    <tr>\n",
       "      <th>top</th>\n",
       "      <td>\"Zbombardowane włóczką słupki\" na Szmulkach</td>\n",
       "    </tr>\n",
       "    <tr>\n",
       "      <th>freq</th>\n",
       "      <td>2</td>\n",
       "    </tr>\n",
       "  </tbody>\n",
       "</table>\n",
       "</div>"
      ],
      "text/plain": [
       "                                             Tytuły\n",
       "count                                           980\n",
       "unique                                          956\n",
       "top     \"Zbombardowane włóczką słupki\" na Szmulkach\n",
       "freq                                              2"
      ]
     },
     "execution_count": 127,
     "metadata": {},
     "output_type": "execute_result"
    }
   ],
   "source": [
    "import pandas as pd\n",
    "df = pd.DataFrame({'Tytuły' : titles}) \n",
    "\n",
    "df.describe()\n",
    "\n",
    "\n",
    "#ewentualnie możemy importować do excela\n",
    "#df.to_csv('items.csv', index=False, encoding='utf-8')"
   ]
  },
  {
   "cell_type": "code",
   "execution_count": 144,
   "metadata": {},
   "outputs": [
    {
     "data": {
      "text/html": [
       "<div>\n",
       "<style scoped>\n",
       "    .dataframe tbody tr th:only-of-type {\n",
       "        vertical-align: middle;\n",
       "    }\n",
       "\n",
       "    .dataframe tbody tr th {\n",
       "        vertical-align: top;\n",
       "    }\n",
       "\n",
       "    .dataframe thead th {\n",
       "        text-align: right;\n",
       "    }\n",
       "</style>\n",
       "<table border=\"1\" class=\"dataframe\">\n",
       "  <thead>\n",
       "    <tr style=\"text-align: right;\">\n",
       "      <th></th>\n",
       "      <th>Word</th>\n",
       "      <th>Frequency negative</th>\n",
       "    </tr>\n",
       "  </thead>\n",
       "  <tbody>\n",
       "    <tr>\n",
       "      <th>0</th>\n",
       "      <td>people</td>\n",
       "      <td>45</td>\n",
       "    </tr>\n",
       "    <tr>\n",
       "      <th>1</th>\n",
       "      <td>died</td>\n",
       "      <td>26</td>\n",
       "    </tr>\n",
       "    <tr>\n",
       "      <th>2</th>\n",
       "      <td>hit</td>\n",
       "      <td>20</td>\n",
       "    </tr>\n",
       "    <tr>\n",
       "      <th>3</th>\n",
       "      <td>died.</td>\n",
       "      <td>20</td>\n",
       "    </tr>\n",
       "    <tr>\n",
       "      <th>4</th>\n",
       "      <td>new</td>\n",
       "      <td>20</td>\n",
       "    </tr>\n",
       "    <tr>\n",
       "      <th>5</th>\n",
       "      <td>HE</td>\n",
       "      <td>19</td>\n",
       "    </tr>\n",
       "    <tr>\n",
       "      <th>6</th>\n",
       "      <td>two</td>\n",
       "      <td>19</td>\n",
       "    </tr>\n",
       "    <tr>\n",
       "      <th>7</th>\n",
       "      <td>they</td>\n",
       "      <td>19</td>\n",
       "    </tr>\n",
       "    <tr>\n",
       "      <th>8</th>\n",
       "      <td>accident</td>\n",
       "      <td>In one</td>\n",
       "    </tr>\n",
       "    <tr>\n",
       "      <th>9</th>\n",
       "      <td>car</td>\n",
       "      <td>16</td>\n",
       "    </tr>\n",
       "  </tbody>\n",
       "</table>\n",
       "</div>"
      ],
      "text/plain": [
       "        Word Frequency negative\n",
       "0    people                 45 \n",
       "1      died                 26 \n",
       "2       hit                 20 \n",
       "3     died.                 20 \n",
       "4       new                 20 \n",
       "5        HE                 19 \n",
       "6       two                 19 \n",
       "7      they                 19 \n",
       "8  accident             In one \n",
       "9       car                 16 "
      ]
     },
     "execution_count": 144,
     "metadata": {},
     "output_type": "execute_result"
    }
   ],
   "source": [
    "       \n",
    "from google_trans_new import google_translator  \n",
    "  \n",
    "translator = google_translator()  \n",
    "\n",
    "translations={}\n",
    "for column in df.columns:\n",
    "    # unique elements of the column\n",
    "    unique_elements = df[column].unique()\n",
    "    for element in unique_elements:\n",
    "        # add translation to the dictionary\n",
    "        translations[element] = translator.translate(element)\n",
    "df.replace(translations, inplace = True)\n",
    "\n",
    "# check translation\n",
    "df.head(20)"
   ]
  },
  {
   "cell_type": "code",
   "execution_count": 145,
   "metadata": {},
   "outputs": [],
   "source": [
    "# import SentimentIntensityAnalyzer class\n",
    "# from vaderSentiment.vaderSentiment module.\n",
    "from vaderSentiment.vaderSentiment import SentimentIntensityAnalyzer\n",
    "  \n",
    "# function to print sentiments\n",
    "# of the sentence.\n",
    "def sentiment_scores(sentence):\n",
    "  \n",
    "    # Create a SentimentIntensityAnalyzer object.\n",
    "    sid_obj = SentimentIntensityAnalyzer()\n",
    "  \n",
    "    # polarity_scores method of SentimentIntensityAnalyzer\n",
    "    # oject gives a sentiment dictionary.\n",
    "    # which contains pos, neg, neu, and compound scores.\n",
    "    sentiment_dict = sid_obj.polarity_scores(sentence)\n",
    "     \n",
    "    print(sentence)\n",
    "    print('-----------------------------------------------')\n",
    "    print(\"Overall sentiment dictionary is : \", sentiment_dict)\n",
    "    print(\"sentence was rated as \", sentiment_dict['neg']*100, \"% Negative\")\n",
    "    print(\"sentence was rated as \", sentiment_dict['neu']*100, \"% Neutral\")\n",
    "    print(\"sentence was rated as \", sentiment_dict['pos']*100, \"% Positive\")\n",
    "    print('-----------Q------------------------------------')\n",
    "    \n",
    "  \n",
    "    # decide sentiment as positive, negative and neutral\n",
    "    if sentiment_dict['compound'] >= 0.05 :\n",
    "        return 1\n",
    "  \n",
    "    elif sentiment_dict['compound'] <= - 0.05 :\n",
    "        return -1\n",
    "  \n",
    "    else :\n",
    "        return 0\n",
    "  "
   ]
  },
  {
   "cell_type": "code",
   "execution_count": 146,
   "metadata": {},
   "outputs": [
    {
     "ename": "KeyError",
     "evalue": "'Tytuły'",
     "output_type": "error",
     "traceback": [
      "\u001b[1;31m---------------------------------------------------------------------------\u001b[0m",
      "\u001b[1;31mKeyError\u001b[0m                                  Traceback (most recent call last)",
      "\u001b[1;32mD:\\Anaconda\\lib\\site-packages\\pandas\\core\\indexes\\base.py\u001b[0m in \u001b[0;36mget_loc\u001b[1;34m(self, key, method, tolerance)\u001b[0m\n\u001b[0;32m   2894\u001b[0m             \u001b[1;32mtry\u001b[0m\u001b[1;33m:\u001b[0m\u001b[1;33m\u001b[0m\u001b[1;33m\u001b[0m\u001b[0m\n\u001b[1;32m-> 2895\u001b[1;33m                 \u001b[1;32mreturn\u001b[0m \u001b[0mself\u001b[0m\u001b[1;33m.\u001b[0m\u001b[0m_engine\u001b[0m\u001b[1;33m.\u001b[0m\u001b[0mget_loc\u001b[0m\u001b[1;33m(\u001b[0m\u001b[0mcasted_key\u001b[0m\u001b[1;33m)\u001b[0m\u001b[1;33m\u001b[0m\u001b[1;33m\u001b[0m\u001b[0m\n\u001b[0m\u001b[0;32m   2896\u001b[0m             \u001b[1;32mexcept\u001b[0m \u001b[0mKeyError\u001b[0m \u001b[1;32mas\u001b[0m \u001b[0merr\u001b[0m\u001b[1;33m:\u001b[0m\u001b[1;33m\u001b[0m\u001b[1;33m\u001b[0m\u001b[0m\n",
      "\u001b[1;32mpandas\\_libs\\index.pyx\u001b[0m in \u001b[0;36mpandas._libs.index.IndexEngine.get_loc\u001b[1;34m()\u001b[0m\n",
      "\u001b[1;32mpandas\\_libs\\index.pyx\u001b[0m in \u001b[0;36mpandas._libs.index.IndexEngine.get_loc\u001b[1;34m()\u001b[0m\n",
      "\u001b[1;32mpandas\\_libs\\hashtable_class_helper.pxi\u001b[0m in \u001b[0;36mpandas._libs.hashtable.PyObjectHashTable.get_item\u001b[1;34m()\u001b[0m\n",
      "\u001b[1;32mpandas\\_libs\\hashtable_class_helper.pxi\u001b[0m in \u001b[0;36mpandas._libs.hashtable.PyObjectHashTable.get_item\u001b[1;34m()\u001b[0m\n",
      "\u001b[1;31mKeyError\u001b[0m: 'Tytuły'",
      "\nThe above exception was the direct cause of the following exception:\n",
      "\u001b[1;31mKeyError\u001b[0m                                  Traceback (most recent call last)",
      "\u001b[1;32m<ipython-input-146-8d2ad570df77>\u001b[0m in \u001b[0;36m<module>\u001b[1;34m\u001b[0m\n\u001b[1;32m----> 1\u001b[1;33m \u001b[0mdf\u001b[0m\u001b[1;33m[\u001b[0m\u001b[1;34m'sentyment'\u001b[0m\u001b[1;33m]\u001b[0m\u001b[1;33m=\u001b[0m\u001b[0mdf\u001b[0m\u001b[1;33m[\u001b[0m\u001b[1;34m'Tytuły'\u001b[0m\u001b[1;33m]\u001b[0m\u001b[1;33m.\u001b[0m\u001b[0mapply\u001b[0m\u001b[1;33m(\u001b[0m\u001b[0msentiment_scores\u001b[0m\u001b[1;33m)\u001b[0m\u001b[1;33m\u001b[0m\u001b[1;33m\u001b[0m\u001b[0m\n\u001b[0m",
      "\u001b[1;32mD:\\Anaconda\\lib\\site-packages\\pandas\\core\\frame.py\u001b[0m in \u001b[0;36m__getitem__\u001b[1;34m(self, key)\u001b[0m\n\u001b[0;32m   2900\u001b[0m             \u001b[1;32mif\u001b[0m \u001b[0mself\u001b[0m\u001b[1;33m.\u001b[0m\u001b[0mcolumns\u001b[0m\u001b[1;33m.\u001b[0m\u001b[0mnlevels\u001b[0m \u001b[1;33m>\u001b[0m \u001b[1;36m1\u001b[0m\u001b[1;33m:\u001b[0m\u001b[1;33m\u001b[0m\u001b[1;33m\u001b[0m\u001b[0m\n\u001b[0;32m   2901\u001b[0m                 \u001b[1;32mreturn\u001b[0m \u001b[0mself\u001b[0m\u001b[1;33m.\u001b[0m\u001b[0m_getitem_multilevel\u001b[0m\u001b[1;33m(\u001b[0m\u001b[0mkey\u001b[0m\u001b[1;33m)\u001b[0m\u001b[1;33m\u001b[0m\u001b[1;33m\u001b[0m\u001b[0m\n\u001b[1;32m-> 2902\u001b[1;33m             \u001b[0mindexer\u001b[0m \u001b[1;33m=\u001b[0m \u001b[0mself\u001b[0m\u001b[1;33m.\u001b[0m\u001b[0mcolumns\u001b[0m\u001b[1;33m.\u001b[0m\u001b[0mget_loc\u001b[0m\u001b[1;33m(\u001b[0m\u001b[0mkey\u001b[0m\u001b[1;33m)\u001b[0m\u001b[1;33m\u001b[0m\u001b[1;33m\u001b[0m\u001b[0m\n\u001b[0m\u001b[0;32m   2903\u001b[0m             \u001b[1;32mif\u001b[0m \u001b[0mis_integer\u001b[0m\u001b[1;33m(\u001b[0m\u001b[0mindexer\u001b[0m\u001b[1;33m)\u001b[0m\u001b[1;33m:\u001b[0m\u001b[1;33m\u001b[0m\u001b[1;33m\u001b[0m\u001b[0m\n\u001b[0;32m   2904\u001b[0m                 \u001b[0mindexer\u001b[0m \u001b[1;33m=\u001b[0m \u001b[1;33m[\u001b[0m\u001b[0mindexer\u001b[0m\u001b[1;33m]\u001b[0m\u001b[1;33m\u001b[0m\u001b[1;33m\u001b[0m\u001b[0m\n",
      "\u001b[1;32mD:\\Anaconda\\lib\\site-packages\\pandas\\core\\indexes\\base.py\u001b[0m in \u001b[0;36mget_loc\u001b[1;34m(self, key, method, tolerance)\u001b[0m\n\u001b[0;32m   2895\u001b[0m                 \u001b[1;32mreturn\u001b[0m \u001b[0mself\u001b[0m\u001b[1;33m.\u001b[0m\u001b[0m_engine\u001b[0m\u001b[1;33m.\u001b[0m\u001b[0mget_loc\u001b[0m\u001b[1;33m(\u001b[0m\u001b[0mcasted_key\u001b[0m\u001b[1;33m)\u001b[0m\u001b[1;33m\u001b[0m\u001b[1;33m\u001b[0m\u001b[0m\n\u001b[0;32m   2896\u001b[0m             \u001b[1;32mexcept\u001b[0m \u001b[0mKeyError\u001b[0m \u001b[1;32mas\u001b[0m \u001b[0merr\u001b[0m\u001b[1;33m:\u001b[0m\u001b[1;33m\u001b[0m\u001b[1;33m\u001b[0m\u001b[0m\n\u001b[1;32m-> 2897\u001b[1;33m                 \u001b[1;32mraise\u001b[0m \u001b[0mKeyError\u001b[0m\u001b[1;33m(\u001b[0m\u001b[0mkey\u001b[0m\u001b[1;33m)\u001b[0m \u001b[1;32mfrom\u001b[0m \u001b[0merr\u001b[0m\u001b[1;33m\u001b[0m\u001b[1;33m\u001b[0m\u001b[0m\n\u001b[0m\u001b[0;32m   2898\u001b[0m \u001b[1;33m\u001b[0m\u001b[0m\n\u001b[0;32m   2899\u001b[0m         \u001b[1;32mif\u001b[0m \u001b[0mtolerance\u001b[0m \u001b[1;32mis\u001b[0m \u001b[1;32mnot\u001b[0m \u001b[1;32mNone\u001b[0m\u001b[1;33m:\u001b[0m\u001b[1;33m\u001b[0m\u001b[1;33m\u001b[0m\u001b[0m\n",
      "\u001b[1;31mKeyError\u001b[0m: 'Tytuły'"
     ]
    }
   ],
   "source": [
    "df['sentyment']=df['Tytuły'].apply(sentiment_scores)"
   ]
  },
  {
   "cell_type": "code",
   "execution_count": 39,
   "metadata": {},
   "outputs": [],
   "source": [
    "#Od tąd zaczyna się wizualizacja danych, nie jest to wybitny kod, ale działa"
   ]
  },
  {
   "cell_type": "code",
   "execution_count": null,
   "metadata": {
    "scrolled": false
   },
   "outputs": [],
   "source": [
    "import matplotlib.pyplot as plt\n",
    "\n",
    "x = df.sentyment\n",
    "plt.hist(x, bins = 5)\n",
    "plt.show()\n"
   ]
  },
  {
   "cell_type": "code",
   "execution_count": null,
   "metadata": {},
   "outputs": [],
   "source": [
    "a=df.count()\n",
    "b=df[df.sentyment==1].count()\n",
    "c=df[df.sentyment==0].count()\n",
    "d=df[df.sentyment==-1].count()\n",
    "e=b.Tytuły/a.Tytuły\n",
    "f=c.Tytuły/a.Tytuły\n",
    "g=d.Tytuły/a.Tytuły"
   ]
  },
  {
   "cell_type": "code",
   "execution_count": null,
   "metadata": {},
   "outputs": [],
   "source": [
    "#pip install plotly_express==0.4.0\n",
    "import plotly.express as px\n",
    "labels = ['Positive','Neutral','Negative']\n",
    "values = [e,f,g]\n",
    "fig = px.pie(values=values, names=labels, \n",
    "             color_discrete_map= {\n",
    "                'Positive': \"green\",\n",
    "                'Neutral' : \"blue\",\n",
    "                'Negative': \"red\"\n",
    "                                  }\n",
    "            )\n",
    "fig.update_layout(\n",
    "    font=dict(\n",
    "        family=\"Courier New, monospace\",\n",
    "        size=18,\n",
    "\n",
    "    )\n",
    ")\n",
    "fig.show()"
   ]
  },
  {
   "cell_type": "code",
   "execution_count": 136,
   "metadata": {},
   "outputs": [],
   "source": [
    "df1=df[df['sentyment']==1]\n",
    "df2=df[df['sentyment']==-1]\n",
    "\n",
    "\n",
    "df1= df1[\"Tytuły\"].to_numpy()\n",
    "df2= df2[\"Tytuły\"].to_numpy()   \n",
    "\n",
    "\n",
    "str1 = ''.join(df1)\n",
    "str2 = ''.join(df2)"
   ]
  },
  {
   "cell_type": "code",
   "execution_count": 137,
   "metadata": {
    "scrolled": true
   },
   "outputs": [
    {
     "name": "stdout",
     "output_type": "stream",
     "text": [
      "[('I', 18), ('\"We', 12), ('They', 11), ('we', 10), ('We', 10), ('can', 9), ('President', 8), ('he', 8), ('\"The', 8), ('\"I', 8)]\n"
     ]
    }
   ],
   "source": [
    "from collections import Counter\n",
    "split_it1 = str1.split()\n",
    "licz1=[]\n",
    "for e in split_it1:\n",
    "    if e not in (\"It's\",'it','...','-','it','\"The\"','this','by','at','that','his','about','be','Has','has','Have','have','He','There','A','[video]','With','To','with','will','was','the','to','The','of','in','and','a','an','for','is','are','on','after','from','those','these','do','does','did','not'):\n",
    "        licz1.append(e)\n",
    "split_it1=licz1\n",
    "\n",
    "Counter = Counter(split_it1)\n",
    "most_occur1 = Counter.most_common(10)\n",
    "\n",
    "\n",
    "\n",
    "\n",
    "print(most_occur1)"
   ]
  },
  {
   "cell_type": "code",
   "execution_count": 138,
   "metadata": {},
   "outputs": [
    {
     "name": "stdout",
     "output_type": "stream",
     "text": [
      "[('people', 45), ('died', 26), ('hit', 20), ('died.', 20), ('new', 20), ('\"He', 19), ('two', 19), ('they', 19), ('accident', 17), ('car', 16)]\n"
     ]
    }
   ],
   "source": [
    "from collections import Counter\n",
    "split_it2 = str2.split()\n",
    "licz2=[]\n",
    "for e in split_it2:\n",
    "    if e not in ('he',\"It's\",'it','...','-','this','by','at','that','his','no','about','be','Has','has','Have','have','He','There','To','A','[video]','A','with','will','was','to','The','The','the','They','of','in','and','a','an','for','is','are','on','after','from','those','these','do','does','did','not'):\n",
    "        licz2.append(e)\n",
    "split_it2=licz2\n",
    "\n",
    "Counter = Counter(split_it2)\n",
    "most_occur2 = Counter.most_common(10)\n",
    "\n",
    "\n",
    "\n",
    "\n",
    "print(most_occur2)"
   ]
  },
  {
   "cell_type": "code",
   "execution_count": 139,
   "metadata": {},
   "outputs": [
    {
     "data": {
      "text/plain": [
       "<AxesSubplot:xlabel='Word'>"
      ]
     },
     "execution_count": 139,
     "metadata": {},
     "output_type": "execute_result"
    },
    {
     "data": {
      "image/png": "[encoded data removed]",
      "text/plain": [
       "<Figure size 432x288 with 1 Axes>"
      ]
     },
     "metadata": {
      "needs_background": "light"
     },
     "output_type": "display_data"
    }
   ],
   "source": [
    "import matplotlib.pyplot as plt\n",
    "%matplotlib inline\n",
    "\n",
    "df = pd.DataFrame(most_occur1, columns = ['Word', 'Frequency positive'])\n",
    "df.plot.bar(x='Word',y='Frequency positive',color='green')\n"
   ]
  },
  {
   "cell_type": "code",
   "execution_count": 140,
   "metadata": {
    "scrolled": true
   },
   "outputs": [
    {
     "data": {
      "text/plain": [
       "<AxesSubplot:xlabel='Word'>"
      ]
     },
     "execution_count": 140,
     "metadata": {},
     "output_type": "execute_result"
    },
    {
     "data": {
      "image/png": "[encoded data removed]",
      "text/plain": [
       "<Figure size 432x288 with 1 Axes>"
      ]
     },
     "metadata": {
      "needs_background": "light"
     },
     "output_type": "display_data"
    }
   ],
   "source": [
    "import matplotlib.pyplot as plt\n",
    "%matplotlib inline\n",
    "\n",
    "df = pd.DataFrame(most_occur2, columns = ['Word', 'Frequency negative'])\n",
    "df.plot.bar(x='Word',y='Frequency negative',color='red')"
   ]
  }
 ],
 "metadata": {
  "kernelspec": {
   "display_name": "Python 3",
   "language": "python",
   "name": "python3"
  },
  "language_info": {
   "codemirror_mode": {
    "name": "ipython",
    "version": 3
   },
   "file_extension": ".py",
   "mimetype": "text/x-python",
   "name": "python",
   "nbconvert_exporter": "python",
   "pygments_lexer": "ipython3",
   "version": "3.8.5"
  }
 },
 "nbformat": 4,
 "nbformat_minor": 4
}
